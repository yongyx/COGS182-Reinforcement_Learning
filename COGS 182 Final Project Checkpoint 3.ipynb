{
 "cells": [
  {
   "cell_type": "code",
   "execution_count": 1,
   "metadata": {},
   "outputs": [],
   "source": [
    "import numpy as np\n",
    "import matplotlib.pyplot as plt\n",
    "import pandas as pd\n",
    "from tqdm import tqdm"
   ]
  },
  {
   "cell_type": "markdown",
   "metadata": {},
   "source": [
    "### Create SnakesAndLadders & Agent Classes"
   ]
  },
  {
   "cell_type": "code",
   "execution_count": 2,
   "metadata": {},
   "outputs": [],
   "source": [
    "#create the environment for the snakes and ladders\n",
    "class SnakesAndLadders:\n",
    "    def __init__(self):\n",
    "        \"\"\"Create the Snakes & Ladders Board\"\"\"\n",
    "        self.board = np.zeros(101)\n",
    "        self.ladders = {3:51, 6:27, 36:55, 20:60, 63:95, 68:98}\n",
    "        self.snakes = {34:1, 25:5, 47:19, 65:52, 87:57, 91:61, 99:69}\n",
    "        self.curr = 1\n",
    "    \n",
    "    def reset(self):\n",
    "        \"\"\"Reset the board when done\"\"\"\n",
    "        self.board = np.zeros(101)\n",
    "        self.curr = 1\n",
    "        \n",
    "    def step(self, action):\n",
    "        \"\"\"Take a step within the environment\"\"\"\n",
    "        reward = -1 #for all transitions except \n",
    "                    #squares with snakes and ladders\n",
    "        terminal = False #player has not won\n",
    "        self.curr += action #take the number of steps player chose\n",
    "        \n",
    "        #if current state more than 100, we have to \n",
    "        #move backwards instead.\n",
    "        if self.curr > 100:\n",
    "            back = self.curr - 100\n",
    "            self.curr -= 2*back\n",
    "        \n",
    "        #check if we landed on a snake or ladder\n",
    "        #if snake, descend. if ladder, ascend.\n",
    "        if self.curr in self.ladders.keys():\n",
    "            self.curr = self.ladders[self.curr]\n",
    "        if self.curr in self.snakes.keys():\n",
    "            self.curr = self.snakes[self.curr]\n",
    "        \n",
    "        #check if current is terminal\n",
    "        #NOTE: only terminal when exactly at 100\n",
    "        if self.curr == 100:\n",
    "            terminal = True\n",
    "            reward = 1\n",
    "        \n",
    "        self.board[self.curr] += 1\n",
    "        \n",
    "        return self.curr, reward, terminal\n",
    "            \n",
    "    def showBoard(self):\n",
    "        \"\"\"Shows board and how many times agent has landed in the state\"\"\"\n",
    "        print(\"Snakes and Ladders game board:\")\n",
    "        \n",
    "        print(np.round(self.board[:100], 1).reshape(10,10))\n",
    "        \n",
    "    def getCurrent(self):\n",
    "        \"\"\"returns current state\"\"\"\n",
    "        return self.curr\n",
    "    \n",
    "    def setCurrent(self, curr):\n",
    "        self.curr = curr\n"
   ]
  },
  {
   "cell_type": "code",
   "execution_count": 3,
   "metadata": {},
   "outputs": [],
   "source": [
    "#we create our agent that is going to play the \n",
    "#Snakes & Ladders game\n",
    "class Agent:\n",
    "    def __init__(self, alpha, gamma, epsilon):\n",
    "        \"\"\"Declare agent variables\"\"\"\n",
    "        self.Q = np.zeros((101, 6)) #100 states X 6 actions\n",
    "        self.alpha = alpha\n",
    "        self.gamma = gamma\n",
    "        self.epsilon = epsilon\n",
    "        self.actions = []\n",
    "        \n",
    "    def reset(self):\n",
    "        self.actions = []\n",
    "        \n",
    "    def roll_dice(self):\n",
    "        \"\"\"Generate a roll of the dice\"\"\"\n",
    "        #NOTE: the dice will be an unfair die\n",
    "        diceRoll = np.random.choice(range(1,7), p = (0.25,0.15,0.2,0.15,0.15,0.1))\n",
    "        return diceRoll\n",
    "        \n",
    "    def ep_greedy(self, state):\n",
    "        \"\"\"follow epsilon greedy policy to choose action\"\"\"\n",
    "        diceRoll = self.roll_dice() #we roll the dice\n",
    "        if np.random.random() < self.epsilon:\n",
    "            #we choose the number of steps limited from the diceRoll\n",
    "            action = np.random.randint(1,diceRoll+1)\n",
    "        else:\n",
    "            action = np.argmax(self.Q[state])+1 #we do this, otherwise\n",
    "                                                #the action returned is\n",
    "                                                #one less than what we roll.\n",
    "        \n",
    "        self.actions.append(action)\n",
    "        return action \n",
    "    \n",
    "    def updateQ(self, s, a, s_prime, r):\n",
    "        self.Q[s,a] += self.alpha * (r + self.gamma*max(self.Q[s_prime]) - self.Q[s,a])\n",
    "        \n",
    "    def getQValues(self):\n",
    "        return self.Q\n",
    "    \n",
    "    def getActions(self):\n",
    "        return self.actions\n",
    "    \n",
    "    def resetQ(self):\n",
    "        self.Q = np.zeros((101, 6))\n",
    "    "
   ]
  },
  {
   "cell_type": "markdown",
   "metadata": {},
   "source": [
    "### Create QLearning and dynaQ functions"
   ]
  },
  {
   "cell_type": "code",
   "execution_count": 4,
   "metadata": {},
   "outputs": [],
   "source": [
    "def QLearning(num_episodes, env, agent):\n",
    "    actionList = []\n",
    "    for ep in tqdm(range(num_episodes)):\n",
    "        pass\n",
    "        #get current state from environment\n",
    "        state = env.getCurrent()\n",
    "        while True:\n",
    "            #using epsilon-greedy policy, get action\n",
    "            #from Agent object\n",
    "            action = agent.ep_greedy(state)\n",
    "            #take a step in the environment to get \n",
    "            #subsequent state and reward\n",
    "            state_prime, reward, terminal = env.step(action)\n",
    "            if terminal:\n",
    "                break\n",
    "            #using Agent object, update its Q values\n",
    "            agent.updateQ(state,action-1,state_prime,reward)\n",
    "            state = state_prime\n",
    "        actionList.append(agent.getActions())\n",
    "        agent.reset()\n",
    "        env.reset()\n",
    "    return actionList"
   ]
  },
  {
   "cell_type": "code",
   "execution_count": 5,
   "metadata": {},
   "outputs": [],
   "source": [
    "def DynaQ(env, agent, model, max_steps, n_planning_steps):\n",
    "    \n",
    "    state = env.getCurrent()\n",
    "    steps = max_steps\n",
    "    \n",
    "    for t in range(max_steps):\n",
    "        action = agent.ep_greedy(state)\n",
    "        state_prime, reward, terminal = env.step(action)\n",
    "        \n",
    "        if terminal:\n",
    "            steps = t\n",
    "            break\n",
    "            \n",
    "        model[state, action-1] = [state_prime, reward]\n",
    "        \n",
    "        agent.updateQ(state, action-1, state_prime, reward)\n",
    "        \n",
    "        for k in range(n_planning_steps):\n",
    "            candidates = np.array(np.where(~np.isnan(model[:,:,0]))).T\n",
    "            \n",
    "            #get random index of candidate \n",
    "            #AKA random previously observed state\n",
    "            idx = np.random.choice(len(candidates))\n",
    "            \n",
    "            state_, action_ = candidates[idx]\n",
    "            \n",
    "            #use model to find the next state and reward\n",
    "            #NOTE: we don't have to deduct the action by 1 here\n",
    "            #because the model already has the right indexing.\n",
    "            state_next, reward_ = model[state_,action_]\n",
    "            \n",
    "            #update q values\n",
    "            agent.updateQ(state_,action_,int(state_next),reward_)\n",
    "            \n",
    "        state = state_prime\n",
    "        \n",
    "    return model, steps\n",
    "    "
   ]
  },
  {
   "cell_type": "markdown",
   "metadata": {},
   "source": [
    "### Test Agent and SnakeAndLadders Class Functions"
   ]
  },
  {
   "cell_type": "code",
   "execution_count": 6,
   "metadata": {},
   "outputs": [],
   "source": [
    "def testSAndL():\n",
    "    SAndL = SnakesAndLadders()\n",
    "    while True:\n",
    "        action = np.random.randint(1,7)\n",
    "        state_prime, reward, terminal = SAndL.step(action)\n",
    "        if terminal:\n",
    "            break\n",
    "    SAndL.showBoard()"
   ]
  },
  {
   "cell_type": "code",
   "execution_count": 7,
   "metadata": {},
   "outputs": [],
   "source": [
    "def testStep(s):\n",
    "    SAndL = SnakesAndLadders()\n",
    "    print('{:^15}{:^15}{:^15}{:^15}'.format('Input State', 'Dice Roll', 'Next State', 'Reward'))\n",
    "    for i in range(1,7):\n",
    "        SAndL.setCurrent(s)\n",
    "        state_prime, reward, terminal = SAndL.step(i)\n",
    "        print('{:^15}{:^15}{:^15}{:^15}'.format(s, i, state_prime, reward))\n",
    "    \n",
    "        "
   ]
  },
  {
   "cell_type": "code",
   "execution_count": 8,
   "metadata": {},
   "outputs": [],
   "source": [
    "def testRollDice():\n",
    "    test_agent = Agent(0.5,0.8,0.05)\n",
    "    freq = dict()\n",
    "    for i in range(1000):\n",
    "        roll = test_agent.roll_dice()\n",
    "        if roll not in freq.keys():\n",
    "            freq[roll] = 1\n",
    "        else:\n",
    "            freq[roll] += 1\n",
    "    print('{:^15}{:^15}'.format(\"Dice Roll\", \"Frequency\"))\n",
    "    for roll, f in sorted(freq.items()):\n",
    "        print('{:^15}{:^15}'.format(roll, f/1000))\n",
    "        "
   ]
  },
  {
   "cell_type": "code",
   "execution_count": 9,
   "metadata": {},
   "outputs": [
    {
     "name": "stdout",
     "output_type": "stream",
     "text": [
      "Snakes and Ladders game board:\n",
      "[[0. 0. 1. 0. 0. 2. 0. 0. 0. 1.]\n",
      " [0. 1. 0. 0. 1. 1. 1. 0. 1. 1.]\n",
      " [0. 2. 1. 1. 0. 0. 1. 0. 0. 0.]\n",
      " [0. 0. 1. 0. 0. 1. 0. 0. 0. 0.]\n",
      " [0. 1. 0. 1. 0. 0. 0. 0. 1. 0.]\n",
      " [0. 0. 1. 0. 1. 0. 0. 1. 0. 0.]\n",
      " [0. 0. 1. 0. 0. 0. 0. 1. 0. 0.]\n",
      " [0. 0. 1. 0. 0. 0. 0. 1. 0. 0.]\n",
      " [0. 0. 0. 1. 1. 1. 0. 0. 0. 1.]\n",
      " [0. 0. 0. 0. 1. 0. 0. 1. 2. 0.]]\n"
     ]
    }
   ],
   "source": [
    "testSAndL()"
   ]
  },
  {
   "cell_type": "code",
   "execution_count": 10,
   "metadata": {},
   "outputs": [
    {
     "name": "stdout",
     "output_type": "stream",
     "text": [
      "  Input State     Dice Roll     Next State       Reward     \n",
      "       0              1              1             -1       \n",
      "       0              2              2             -1       \n",
      "       0              3             51             -1       \n",
      "       0              4              4             -1       \n",
      "       0              5              5             -1       \n",
      "       0              6             27             -1       \n",
      "  Input State     Dice Roll     Next State       Reward     \n",
      "      20              1             21             -1       \n",
      "      20              2             22             -1       \n",
      "      20              3             23             -1       \n",
      "      20              4             24             -1       \n",
      "      20              5              5             -1       \n",
      "      20              6             26             -1       \n",
      "  Input State     Dice Roll     Next State       Reward     \n",
      "      41              1             42             -1       \n",
      "      41              2             43             -1       \n",
      "      41              3             44             -1       \n",
      "      41              4             45             -1       \n",
      "      41              5             46             -1       \n",
      "      41              6             19             -1       \n",
      "  Input State     Dice Roll     Next State       Reward     \n",
      "      60              1             61             -1       \n",
      "      60              2             62             -1       \n",
      "      60              3             95             -1       \n",
      "      60              4             64             -1       \n",
      "      60              5             52             -1       \n",
      "      60              6             66             -1       \n",
      "  Input State     Dice Roll     Next State       Reward     \n",
      "      95              1             96             -1       \n",
      "      95              2             97             -1       \n",
      "      95              3             98             -1       \n",
      "      95              4             69             -1       \n",
      "      95              5             100             1       \n",
      "      95              6             69             -1       \n",
      "  Input State     Dice Roll     Next State       Reward     \n",
      "      98              1             69             -1       \n",
      "      98              2             100             1       \n",
      "      98              3             69             -1       \n",
      "      98              4             98             -1       \n",
      "      98              5             97             -1       \n",
      "      98              6             96             -1       \n"
     ]
    }
   ],
   "source": [
    "testStep(0)\n",
    "testStep(20)\n",
    "testStep(41)\n",
    "testStep(60)\n",
    "testStep(95)\n",
    "testStep(98)"
   ]
  },
  {
   "cell_type": "code",
   "execution_count": 11,
   "metadata": {},
   "outputs": [
    {
     "name": "stdout",
     "output_type": "stream",
     "text": [
      "   Dice Roll      Frequency   \n",
      "       1            0.244     \n",
      "       2            0.147     \n",
      "       3            0.195     \n",
      "       4            0.141     \n",
      "       5            0.171     \n",
      "       6            0.102     \n"
     ]
    }
   ],
   "source": [
    "testRollDice()"
   ]
  },
  {
   "cell_type": "markdown",
   "metadata": {},
   "source": [
    "### Run Algorithms"
   ]
  },
  {
   "cell_type": "code",
   "execution_count": 12,
   "metadata": {},
   "outputs": [],
   "source": [
    "alpha = 0.5\n",
    "gamma = 1\n",
    "epsilon = 0.05\n",
    "num_episodes = 5000\n",
    "max_steps = 1000\n",
    "n_planning_steps = [1,10,100]\n",
    "n_experiments = 5"
   ]
  },
  {
   "cell_type": "markdown",
   "metadata": {},
   "source": [
    "#### Q-Learning"
   ]
  },
  {
   "cell_type": "code",
   "execution_count": 13,
   "metadata": {},
   "outputs": [
    {
     "name": "stderr",
     "output_type": "stream",
     "text": [
      "100%|██████████| 5000/5000 [00:01<00:00, 3521.61it/s]\n"
     ]
    }
   ],
   "source": [
    "QLearningAgent = Agent(alpha, gamma, epsilon)\n",
    "snakesAndLadders = SnakesAndLadders()\n",
    "actionList = QLearning(num_episodes, snakesAndLadders, QLearningAgent)"
   ]
  },
  {
   "cell_type": "markdown",
   "metadata": {},
   "source": [
    "#### Dyna-Q"
   ]
  },
  {
   "cell_type": "code",
   "execution_count": 14,
   "metadata": {},
   "outputs": [
    {
     "name": "stderr",
     "output_type": "stream",
     "text": [
      "100%|██████████| 5/5 [00:10<00:00,  2.11s/it]\n",
      "100%|██████████| 5/5 [00:35<00:00,  7.19s/it]\n",
      "100%|██████████| 5/5 [04:01<00:00, 48.35s/it]\n"
     ]
    }
   ],
   "source": [
    "DynaQAgent = Agent(alpha, gamma, epsilon)\n",
    "snakesAndLadders_ = SnakesAndLadders()\n",
    "steps_per_episode = np.zeros((len(n_planning_steps), n_experiments, num_episodes))\n",
    "\n",
    "for i, k_steps in enumerate(n_planning_steps):\n",
    "    \n",
    "    for j in tqdm(range(n_experiments)):\n",
    "        model = np.nan*np.zeros((100, 6, 2))\n",
    "        DynaQAgent.resetQ()\n",
    "        \n",
    "        for l in range(num_episodes):\n",
    "            model, steps = DynaQ(snakesAndLadders_, DynaQAgent, model, max_steps, k_steps)\n",
    "            steps_per_episode[i,j,l] = steps\n",
    "            snakesAndLadders_.reset()\n",
    "        "
   ]
  },
  {
   "cell_type": "markdown",
   "metadata": {},
   "source": [
    "### Visualizations"
   ]
  },
  {
   "cell_type": "code",
   "execution_count": 15,
   "metadata": {},
   "outputs": [],
   "source": [
    "def plot_heatmap_max_val(env, value, algoTitle, ax=None):\n",
    "    \"\"\"Generate heatmap showing maximum value at each state\"\"\"\n",
    "    if ax is None:\n",
    "        fig, ax = plt.subplots()\n",
    "    \n",
    "    if value.ndim == 1:\n",
    "        value_max = np.reshape(value[:100], (10,10))\n",
    "    else:\n",
    "        value_max = np.reshape(value[:100].max(axis=1), (10,10))\n",
    "    value_max = value_max[::-1,:]\n",
    "    \n",
    "    im = ax.imshow(value_max, aspect='auto', interpolation='none', cmap='afmhot')\n",
    "    ax.set(title='Maximum value per state for ' + algoTitle)\n",
    "    ax.set_xticks(np.linspace(0, 10-1, num=10))\n",
    "    ax.set_xticklabels([\"%d\" % x for x in np.arange(10)])\n",
    "    ax.set_yticks(np.linspace(0, 10-1, num=10))\n",
    "    \n",
    "    ax.set_yticklabels([\"%d\" % y for y in np.arange(\n",
    "              0, 100, 10)][::-1])\n",
    "    \n",
    "    return im"
   ]
  },
  {
   "cell_type": "code",
   "execution_count": 16,
   "metadata": {},
   "outputs": [],
   "source": [
    "def plot_actionNum_vs_episodes(num_episodes, actionList, algoTitle, ax=None):\n",
    "    if ax is None:\n",
    "        fig, ax = plt.subplots()\n",
    "    \n",
    "    ax.set(title='actionNum vs Episodes for ' + algoTitle)\n",
    "    ax.set_xlabel('Num of Episodes')\n",
    "    ax.set_ylabel('Number of Actions taken')\n",
    "    #xticks = np.linspace(0, 1000-1, num=100)\n",
    "    #xticklabels = [\"%d\" % x for x in np.arange(1000)]\n",
    "    #ax.set_xticks(xticks, xticklabels)\n",
    "    \n",
    "    actionLen = []\n",
    "    for i in actionList:\n",
    "        actionLen.append(len(i))\n",
    "    \n",
    "    ax.plot(np.arange(num_episodes), actionLen)\n",
    "    "
   ]
  },
  {
   "cell_type": "code",
   "execution_count": 17,
   "metadata": {},
   "outputs": [
    {
     "data": {
      "image/png": "[encoded data removed]",
      "text/plain": [
       "<Figure size 936x360 with 2 Axes>"
      ]
     },
     "metadata": {
      "needs_background": "light"
     },
     "output_type": "display_data"
    }
   ],
   "source": [
    "fig, ax = plt.subplots(nrows=1, ncols=2, figsize=(13,5))\n",
    "plot_heatmap_max_val(snakesAndLadders, QLearningAgent.getQValues(), 'QLearning', ax[0])\n",
    "plot_actionNum_vs_episodes(num_episodes, actionList, \"QLearning\", ax[1])"
   ]
  },
  {
   "cell_type": "code",
   "execution_count": 18,
   "metadata": {},
   "outputs": [
    {
     "data": {
      "text/plain": [
       "Text(0.5, 0, 'Episodes')"
      ]
     },
     "execution_count": 18,
     "metadata": {},
     "output_type": "execute_result"
    },
    {
     "data": {
      "image/png": "[encoded data removed]",
      "text/plain": [
       "<Figure size 936x360 with 1 Axes>"
      ]
     },
     "metadata": {
      "needs_background": "light"
     },
     "output_type": "display_data"
    }
   ],
   "source": [
    "fig, ax = plt.subplots(nrows=1, ncols=1, figsize=(13,5))\n",
    "n_planning_steps = [1,10,100]\n",
    "\n",
    "for i , k_steps in enumerate(n_planning_steps):\n",
    "    \n",
    "    ax.plot(range(5,150), np.mean(steps_per_episode[i,:,5:150], axis=(0)).T, label = str(n_planning_steps[i]) + \" planning steps\" )\n",
    "    \n",
    "ax.legend()\n",
    "ax.title.set_text(\"n-step TD\")\n",
    "ax.set_ylabel(\"Steps\")\n",
    "ax.set_xlabel(\"Episodes\")"
   ]
  },
  {
   "cell_type": "code",
   "execution_count": null,
   "metadata": {},
   "outputs": [],
   "source": []
  },
  {
   "cell_type": "code",
   "execution_count": null,
   "metadata": {},
   "outputs": [],
   "source": []
  }
 ],
 "metadata": {
  "kernelspec": {
   "display_name": "Python 3",
   "language": "python",
   "name": "python3"
  },
  "language_info": {
   "codemirror_mode": {
    "name": "ipython",
    "version": 3
   },
   "file_extension": ".py",
   "mimetype": "text/x-python",
   "name": "python",
   "nbconvert_exporter": "python",
   "pygments_lexer": "ipython3",
   "version": "3.8.6"
  }
 },
 "nbformat": 4,
 "nbformat_minor": 4
}
